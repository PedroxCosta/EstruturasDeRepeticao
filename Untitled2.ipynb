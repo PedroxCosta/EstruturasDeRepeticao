{
  "nbformat": 4,
  "nbformat_minor": 0,
  "metadata": {
    "colab": {
      "provenance": [],
      "authorship_tag": "ABX9TyPtwFltVZYLkiTq0R9GoVDs",
      "include_colab_link": true
    },
    "kernelspec": {
      "name": "python3",
      "display_name": "Python 3"
    },
    "language_info": {
      "name": "python"
    }
  },
  "cells": [
    {
      "cell_type": "markdown",
      "metadata": {
        "id": "view-in-github",
        "colab_type": "text"
      },
      "source": [
        "<a href=\"https://colab.research.google.com/github/PedroxCosta/EstruturasDeRepeticao/blob/main/Untitled2.ipynb\" target=\"_parent\"><img src=\"https://colab.research.google.com/assets/colab-badge.svg\" alt=\"Open In Colab\"/></a>"
      ]
    },
    {
      "cell_type": "code",
      "execution_count": null,
      "metadata": {
        "id": "YZucmCGOMHy0"
      },
      "outputs": [],
      "source": [
        "%%writefile maiorTodos.cs\n",
        "using System;\n",
        "\n",
        "class Senha\n",
        "{\n",
        "    static void Main(string[] args)\n",
        "    {\n",
        "        Console.Write(\"Digite a senha: \"); //solicitando a senha\n",
        "        string senha = Console.ReadLine(); // armazenand a senha\n",
        "        \n",
        "        int Letras = 0; //declaração de variaveis \n",
        "        int Digitos = 0;\n",
        "        foreach(char c in senha) // aqui eu ahei um grande poblema por que eu nao sabia da exitencia do char qui usado para string e caracteres, então tive qui dar uma pesquisada, pra conseguir faser o foreach ler caractere por caractere da senha ja que isso era um fator basico para o meu codigo, assim todos os caracteres da senha estao agora no c \n",
        "        {\n",
        "            if(Char.IsLetter(c)) // aqui eu usei o IsLetter para percorrer todas as letras qui contem na minha senha(c)\n",
        "            {\n",
        "                Letras++; //encremento\n",
        "            }\n",
        "            else if(Char.IsDigit(c)) //aqui eu usei  else if para executar tanto meu encemento quanto o meu else que estar abaixo qui eu usei para imprimir o erro do usuario, e usei o IsDigit para percorrer todos os digitos da minha senha(c)\n",
        "            {\n",
        "                Digitos++; //encremento\n",
        "            }\n",
        "            else \n",
        "            {\n",
        "                Console.WriteLine(\"Senha inválida: a senha deve ser composta apenas por caracteres alfanuméricos (a-z, A-Z, 0-9).\");\n",
        "                return; \n",
        "            }\n",
        "        }\n",
        "        \n",
        "        if((Letras % 2 != 0) || (Digitos % 2 == 0)) //aqui eu usei a expeção != na quantidade de letras, pq eu sei que o resto de uma divisão de um numero par sempre vai ser 0, usei uma logica parecida no quantidade de digitos por que eu sei que o resto de divisão de um numero impar não pode ser igua a 0\n",
        "        {\n",
        "            Console.WriteLine(\"Senha inválida: o número de letras deve ser par e os números de dígitos deve ser ímpar.\");\n",
        "            return;\n",
        "        }\n",
        "        \n",
        "        if(senha.Length < 7) // aqui eu usei o Length ou seja o tamanho da senha em junção com o if  para verificar se a senha tem menos do que 7 caracteres, se a senha for menor do que 7 a mensagem abaixo sera imprimida\n",
        "        {\n",
        "            Console.WriteLine(\"Senha inválida: a senha deve ter no mínimo 7 caracteres.\");\n",
        "            return;\n",
        "        }\n",
        "        \n",
        "        Console.WriteLine(\"Senha válida.\"); // se o usuario escrever uma senha valida entao esse text sera imprimido\n",
        "    }\n",
        "}"
      ]
    },
    {
      "cell_type": "code",
      "source": [
        "!mcs maiorTodos.cs -out:maiorTodos"
      ],
      "metadata": {
        "id": "zSNXLBlKRFAq"
      },
      "execution_count": null,
      "outputs": []
    },
    {
      "cell_type": "code",
      "source": [
        "!mono maiorTodos"
      ],
      "metadata": {
        "id": "wNpA2qMyRE6D"
      },
      "execution_count": null,
      "outputs": []
    }
  ]
}